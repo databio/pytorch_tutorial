{
 "cells": [
  {
   "cell_type": "markdown",
   "metadata": {},
   "source": [
    "# Pytorch tutorial"
   ]
  },
  {
   "cell_type": "markdown",
   "metadata": {},
   "source": [
    "Where to find it:\\\n",
    "https://github.com/databio/pytorch_tutorial"
   ]
  },
  {
   "cell_type": "markdown",
   "metadata": {},
   "source": [
    "References:\\\n",
    "https://machinelearningmastery.com/pytorch-tutorial-develop-deep-learning-models/\n",
    "\n",
    "https://pytorch.org/tutorials/beginner/basics/quickstart_tutorial.html"
   ]
  },
  {
   "cell_type": "markdown",
   "metadata": {},
   "source": [
    "## What is [Pytorch](https://pytorch.org/)\n",
    "- PyTorch is an open-source Python library for deep learning developed and maintained by Facebook.\n",
    "- Pytorch is widely used by researchers in the development of new deep learning models and applications"
   ]
  },
  {
   "cell_type": "markdown",
   "metadata": {},
   "source": [
    "## Install Pytorch"
   ]
  },
  {
   "cell_type": "markdown",
   "metadata": {},
   "source": [
    "https://pytorch.org/"
   ]
  },
  {
   "cell_type": "code",
   "execution_count": 1,
   "metadata": {
    "tags": []
   },
   "outputs": [
    {
     "name": "stdout",
     "output_type": "stream",
     "text": [
      "2.0.1\n",
      "False\n"
     ]
    }
   ],
   "source": [
    "# check pytorch version\n",
    "import torch\n",
    "print(torch.__version__)\n",
    "# check whether Pytorch supports GPU\n",
    "print(torch.cuda.is_available())\n",
    "import numpy as np"
   ]
  },
  {
   "cell_type": "code",
   "execution_count": 2,
   "metadata": {
    "tags": []
   },
   "outputs": [],
   "source": [
    "import torch\n",
    "from torch import nn\n",
    "from torch.utils.data import DataLoader\n",
    "from torchvision import datasets\n",
    "from torchvision.transforms import ToTensor"
   ]
  },
  {
   "cell_type": "markdown",
   "metadata": {},
   "source": [
    "## Pytorch basics"
   ]
  },
  {
   "cell_type": "markdown",
   "metadata": {},
   "source": [
    "The very basic data structure: [tensor](https://pytorch.org/tutorials/beginner/basics/tensorqs_tutorial.html)\n",
    "- Tensors are similar to NumPy’s ndarrays, except that tensors can run on *GPUs* or *other hardware accelerators*.\n",
    "- All are tensors: parameters, inputs, and outputs of a model\n",
    "- Optimized for automatic differentiation (generating gradients)"
   ]
  },
  {
   "cell_type": "code",
   "execution_count": 3,
   "metadata": {
    "tags": []
   },
   "outputs": [
    {
     "name": "stdout",
     "output_type": "stream",
     "text": [
      "tensor([[1., 2., 3.],\n",
      "        [2., 3., 4.]])\n",
      "cpu\n",
      "torch.float32\n",
      "[[1. 2. 3.]\n",
      " [2. 3. 4.]]\n",
      "float32\n",
      "float64\n",
      "torch.float32\n",
      "GPU not supported\n"
     ]
    }
   ],
   "source": [
    "a = torch.tensor([[1.0, 2.0, 3.0],[2.0, 3.0, 4.0]])\n",
    "print(a)\n",
    "print(a.device)\n",
    "print(a.dtype)\n",
    "\n",
    "b = a.numpy() # convert a tensor to a numpy array\n",
    "print(b)\n",
    "print(b.dtype)\n",
    "\n",
    "a = np.array([1.0, 2.0, 3.0])\n",
    "print(a.dtype)\n",
    "b = torch.tensor(a, dtype=torch.float32) # the default dtype in Pytorch is torch.float32\n",
    "print(b.dtype)\n",
    "\n",
    "try:\n",
    "    c = a.cuda() # move a to a default GPU, use os.environ[\"CUDA_VISIBLE_DEVICES\"] = \"0\" to specify a default GPU\n",
    "    c = a.to(torch.device('cuda:1')) # move a to GPU #1\n",
    "    d = c.cpu() # move c to CPU (memory)\n",
    "    print(c.device)\n",
    "except:\n",
    "    print(\"GPU not supported\")"
   ]
  },
  {
   "cell_type": "code",
   "execution_count": 4,
   "metadata": {},
   "outputs": [
    {
     "name": "stdout",
     "output_type": "stream",
     "text": [
      "torch.Size([1, 2])\n",
      "tensor([[2.5000, 4.0000, 5.5000]])\n"
     ]
    }
   ],
   "source": [
    "d = torch.tensor([[0.5, 1.0]])\n",
    "print(d.shape)\n",
    "e = torch.matmul(d, a)\n",
    "print(e)"
   ]
  },
  {
   "cell_type": "markdown",
   "metadata": {},
   "source": [
    "Parameter and [Computation graph](https://pytorch.org/blog/computational-graphs-constructed-in-pytorch/)"
   ]
  },
  {
   "cell_type": "code",
   "execution_count": 6,
   "metadata": {
    "tags": []
   },
   "outputs": [
    {
     "name": "stdout",
     "output_type": "stream",
     "text": [
      "False\n",
      "Parameter containing:\n",
      "tensor([0.1000, 0.2000, 0.3000], requires_grad=True)\n",
      "\n",
      "\n",
      "True\n",
      "<DotBackward0 object at 0x7f7b184cda00>\n",
      "None\n",
      "tensor([0.2000, 0.4000, 0.6000])\n"
     ]
    }
   ],
   "source": [
    "#parameter and computation graph\n",
    "a = torch.tensor([0.1,0.2,0.3])\n",
    "print(a.requires_grad)\n",
    "a = nn.Parameter(a)\n",
    "print(a)\n",
    "print('\\n')\n",
    "\n",
    "b = torch.dot(a, a)\n",
    "print(b.requires_grad)\n",
    "print(b.grad_fn)\n",
    "print(a.grad)\n",
    "b.backward()\n",
    "print(a.grad)"
   ]
  },
  {
   "cell_type": "markdown",
   "metadata": {},
   "source": [
    "## How to use Pytorch"
   ]
  },
  {
   "cell_type": "markdown",
   "metadata": {},
   "source": [
    "1. Prepare the data.\n",
    "2. Define the model.\n",
    "3. Train the model.\n",
    "4. Evaluate the model.\n",
    "5. Make predictions."
   ]
  },
  {
   "cell_type": "markdown",
   "metadata": {},
   "source": [
    "## Prepare the data"
   ]
  },
  {
   "cell_type": "markdown",
   "metadata": {},
   "source": [
    "PyTorch provides the [Dataset](https://pytorch.org/docs/stable/data.html#torch.utils.data.Dataset) class that you can extend and customize to load your dataset.\n",
    "\n",
    "- All datasets that represent a map from keys to data samples should subclass it. \n",
    "\n",
    "- All subclasses should overwrite `__getitem__()`, supporting fetching a data sample for a given key. \n",
    "\n",
    "- Subclasses could also optionally overwrite __len__(), which is expected to return the size of the dataset by many Sampler implementations and the default options of [DataLoader](https://pytorch.org/docs/stable/data.html#torch.utils.data.DataLoader).\n",
    "\n",
    "- When loading your dataset, you can also perform any required transforms, such as scaling or encoding."
   ]
  },
  {
   "cell_type": "code",
   "execution_count": 6,
   "metadata": {},
   "outputs": [],
   "source": [
    "# dataset definition\n",
    "class MyDataset(torch.utils.data.Dataset):\n",
    "    # load the dataset\n",
    "    def __init__(self, path):\n",
    "        \"\"\"Setup the dataset\n",
    "        Need to setup data and labels \n",
    "        [Optional] Set any useful properties, e.g. num_classes for classification\n",
    "        \"\"\"\n",
    "        # store the inputs and outputs\n",
    "        self.data = ...\n",
    "        self.labels = ...\n",
    "        # self.num_classes = 10\n",
    " \n",
    "    # number of rows in the dataset\n",
    "    def __len__(self):\n",
    "        return len(self.labels)\n",
    " \n",
    "    # get an element from the dataset\n",
    "    def __getitem__(self, idx):\n",
    "        return self.data[idx], self.labels[idx]"
   ]
  },
  {
   "cell_type": "code",
   "execution_count": 7,
   "metadata": {},
   "outputs": [],
   "source": [
    "training_data = datasets.FashionMNIST(\n",
    "    root=\"data\",\n",
    "    train=True,\n",
    "    download=True,\n",
    "    transform=ToTensor(),\n",
    ")\n",
    "\n",
    "# Download test data from open datasets.\n",
    "test_data = datasets.FashionMNIST(\n",
    "    root=\"data\",\n",
    "    train=False,\n",
    "    download=True,\n",
    "    transform=ToTensor(),\n",
    ")"
   ]
  },
  {
   "cell_type": "code",
   "execution_count": 8,
   "metadata": {},
   "outputs": [
    {
     "name": "stdout",
     "output_type": "stream",
     "text": [
      "Shape of X [N, C, H, W]: torch.Size([64, 1, 28, 28])\n",
      "Shape of y: torch.Size([64]) torch.int64\n"
     ]
    }
   ],
   "source": [
    "batch_size = 64\n",
    "\n",
    "# Create data loaders.\n",
    "train_dataloader = DataLoader(training_data, batch_size=batch_size)\n",
    "test_dataloader = DataLoader(test_data, batch_size=batch_size)\n",
    "\n",
    "for X, y in test_dataloader:\n",
    "    print(f\"Shape of X [N, C, H, W]: {X.shape}\")\n",
    "    print(f\"Shape of y: {y.shape} {y.dtype}\")\n",
    "    break"
   ]
  },
  {
   "cell_type": "markdown",
   "metadata": {},
   "source": [
    "## Define the model"
   ]
  },
  {
   "cell_type": "markdown",
   "metadata": {},
   "source": [
    "- Define a class that extends the [Module](https://pytorch.org/docs/stable/generated/torch.nn.Module.html#torch.nn.Module) class\n",
    "- The constructor of your class defines the layers of the model\n",
    "- Override the `forward()` function to specify how to propagate input through the defined layers of the model\n",
    "- Many layers are available in the [torch.nn](https://pytorch.org/docs/stable/nn.html) module\n",
    "- Activation functions can also be defined as layers or just functions ([torch.nn.functional](https://pytorch.org/docs/stable/nn.functional.html))"
   ]
  },
  {
   "cell_type": "code",
   "execution_count": 9,
   "metadata": {},
   "outputs": [
    {
     "name": "stdout",
     "output_type": "stream",
     "text": [
      "MLP(\n",
      "  (layer): Linear(in_features=10, out_features=1, bias=True)\n",
      "  (activation): Sigmoid()\n",
      ")\n"
     ]
    }
   ],
   "source": [
    "# model definition\n",
    "class MLP(torch.nn.Module):\n",
    "    # define model elements\n",
    "    def __init__(self, n_inputs):\n",
    "        super(MLP, self).__init__()\n",
    "        self.layer = torch.nn.Linear(n_inputs, 1)\n",
    "        self.activation = torch.nn.Sigmoid()\n",
    " \n",
    "    # forward propagate input\n",
    "    def forward(self, X):\n",
    "        X = self.layer(X)\n",
    "        X = self.activation(X)\n",
    "        return X\n",
    "mlp_model = MLP(10)\n",
    "print(mlp_model)"
   ]
  },
  {
   "cell_type": "code",
   "execution_count": 10,
   "metadata": {},
   "outputs": [
    {
     "name": "stdout",
     "output_type": "stream",
     "text": [
      "Using cpu device\n",
      "NeuralNetwork(\n",
      "  (flatten): Flatten(start_dim=1, end_dim=-1)\n",
      "  (linear_relu_stack): Sequential(\n",
      "    (0): Linear(in_features=784, out_features=512, bias=True)\n",
      "    (1): ReLU()\n",
      "    (2): Linear(in_features=512, out_features=512, bias=True)\n",
      "    (3): ReLU()\n",
      "    (4): Linear(in_features=512, out_features=10, bias=True)\n",
      "  )\n",
      ")\n"
     ]
    }
   ],
   "source": [
    "# Get cpu, gpu or mps device for training.\n",
    "device = (\n",
    "    \"cuda\"\n",
    "    if torch.cuda.is_available() else \"cpu\"\n",
    ")\n",
    "print(f\"Using {device} device\")\n",
    "\n",
    "# Define model\n",
    "class NeuralNetwork(nn.Module):\n",
    "    def __init__(self):\n",
    "        super().__init__()\n",
    "        self.flatten = nn.Flatten()\n",
    "        self.linear_relu_stack = nn.Sequential(\n",
    "            nn.Linear(28*28, 512),\n",
    "            nn.ReLU(),\n",
    "            nn.Linear(512, 512),\n",
    "            nn.ReLU(),\n",
    "            nn.Linear(512, 10)\n",
    "        )\n",
    "\n",
    "    def forward(self, x):\n",
    "        x = self.flatten(x)\n",
    "        logits = self.linear_relu_stack(x)\n",
    "        return logits\n",
    "\n",
    "model = NeuralNetwork().to(device)\n",
    "print(model)"
   ]
  },
  {
   "cell_type": "code",
   "execution_count": 11,
   "metadata": {},
   "outputs": [],
   "source": [
    "class ConvolutionNeuralNetwork(nn.Module):\n",
    "    def __init__(self):\n",
    "        super().__init__()\n",
    "        self.conv_stack = nn.Sequential(\n",
    "            nn.Conv2d(\n",
    "                1,\n",
    "                32,\n",
    "                kernel_size=3,\n",
    "                bias=False,\n",
    "            ),\n",
    "            nn.BatchNorm2d(32),\n",
    "            nn.ReLU(),\n",
    "            nn.Conv2d(\n",
    "                32,\n",
    "                64,\n",
    "                kernel_size=3,\n",
    "                bias=False,\n",
    "            ),\n",
    "            nn.BatchNorm2d(64),\n",
    "            nn.ReLU(),\n",
    "            nn.AdaptiveAvgPool2d((1, 1)),\n",
    "            nn.Flatten(),\n",
    "            nn.Linear(64, 10)\n",
    "        )\n",
    "        \n",
    "    def forward(self, x):\n",
    "        logits = self.conv_stack(x)\n",
    "        return logits"
   ]
  },
  {
   "cell_type": "markdown",
   "metadata": {},
   "source": [
    "## Train the model"
   ]
  },
  {
   "cell_type": "markdown",
   "metadata": {
    "tags": []
   },
   "source": [
    "- Define an [Optimizer](https://pytorch.org/docs/stable/optim.html#algorithms)\n",
    "- Define a [loss function](https://pytorch.org/docs/stable/nn.html#loss-functions)\n",
    "- [Optional] Define a [learning rate scheduler](https://pytorch.org/docs/stable/optim.html#how-to-adjust-learning-rate)\n",
    "- Train the model for multiple epochs\n",
    "- Monitor the training status, e.g., loss or accuracy\n",
    "- Save the model"
   ]
  },
  {
   "cell_type": "code",
   "execution_count": 12,
   "metadata": {},
   "outputs": [],
   "source": [
    "loss_fn = nn.CrossEntropyLoss()\n",
    "optimizer = torch.optim.SGD(model.parameters(), lr=1e-3)"
   ]
  },
  {
   "cell_type": "code",
   "execution_count": 14,
   "metadata": {},
   "outputs": [],
   "source": [
    "def train(dataloader, model, loss_fn, optimizer):\n",
    "    size = len(dataloader.dataset)\n",
    "    model.train()\n",
    "    for batch, (X, y) in enumerate(dataloader):\n",
    "        X, y = X.to(device), y.to(device)\n",
    "\n",
    "        # Compute prediction error\n",
    "        pred = model(X)\n",
    "        loss = loss_fn(pred, y)\n",
    "\n",
    "        # Backpropagation\n",
    "        optimizer.zero_grad()\n",
    "        loss.backward()\n",
    "        optimizer.step()\n",
    "        \n",
    "\n",
    "        if batch % 100 == 0:\n",
    "            loss, current = loss.item(), (batch + 1) * len(X)\n",
    "            print(f\"loss: {loss:>7f}  [{current:>5d}/{size:>5d}]\")"
   ]
  },
  {
   "cell_type": "markdown",
   "metadata": {},
   "source": [
    "### The importance of calling `optimizer.zero_grad()`"
   ]
  },
  {
   "cell_type": "code",
   "execution_count": null,
   "metadata": {},
   "outputs": [],
   "source": [
    "a = torch.tensor(2.0)\n",
    "print(a.requires_grad)\n",
    "\n",
    "x = nn.Parameter(torch.tensor(2.0))\n",
    "print(x.requires_grad)\n",
    "y = x * x\n",
    "print(y.grad_fn)\n",
    "y.backward()\n",
    "print(x.grad) # 2*x\n",
    "\n",
    "# go through the computation a second time\n",
    "y = x * x\n",
    "print(y.grad_fn)\n",
    "y.backward()\n",
    "print(x.grad) # the gradient is accumulated!\n",
    "\n",
    "# optimizer.zero_grad() initializes all gradients to None\n",
    "x.grad = None # zero-out the gradient\n",
    "y = x * x\n",
    "print(y.grad_fn)\n",
    "y.backward()\n",
    "print(x.grad) # the gradient is accumulated!"
   ]
  },
  {
   "cell_type": "code",
   "execution_count": 15,
   "metadata": {},
   "outputs": [
    {
     "name": "stdout",
     "output_type": "stream",
     "text": [
      "Epoch 1\n",
      "-------------------------------\n",
      "loss: 2.300489  [   64/60000]\n",
      "loss: 2.286211  [ 6464/60000]\n",
      "loss: 2.269345  [12864/60000]\n",
      "loss: 2.265061  [19264/60000]\n",
      "loss: 2.246170  [25664/60000]\n",
      "loss: 2.232025  [32064/60000]\n",
      "loss: 2.226007  [38464/60000]\n",
      "loss: 2.202749  [44864/60000]\n",
      "loss: 2.198681  [51264/60000]\n",
      "loss: 2.174844  [57664/60000]\n",
      "Epoch 2\n",
      "-------------------------------\n",
      "loss: 2.168879  [   64/60000]\n",
      "loss: 2.158053  [ 6464/60000]\n",
      "loss: 2.109062  [12864/60000]\n",
      "loss: 2.124416  [19264/60000]\n",
      "loss: 2.081723  [25664/60000]\n",
      "loss: 2.026275  [32064/60000]\n",
      "loss: 2.048634  [38464/60000]\n",
      "loss: 1.979564  [44864/60000]\n",
      "loss: 1.983211  [51264/60000]\n",
      "loss: 1.919643  [57664/60000]\n",
      "Epoch 3\n",
      "-------------------------------\n",
      "loss: 1.941796  [   64/60000]\n",
      "loss: 1.911540  [ 6464/60000]\n",
      "loss: 1.805935  [12864/60000]\n",
      "loss: 1.839026  [19264/60000]\n",
      "loss: 1.742735  [25664/60000]\n",
      "loss: 1.686348  [32064/60000]\n",
      "loss: 1.706489  [38464/60000]\n",
      "loss: 1.611423  [44864/60000]\n",
      "loss: 1.632352  [51264/60000]\n",
      "loss: 1.531821  [57664/60000]\n",
      "Epoch 4\n",
      "-------------------------------\n",
      "loss: 1.609451  [   64/60000]\n",
      "loss: 1.570843  [ 6464/60000]\n",
      "loss: 1.428605  [12864/60000]\n",
      "loss: 1.489096  [19264/60000]\n",
      "loss: 1.380330  [25664/60000]\n",
      "loss: 1.364662  [32064/60000]\n",
      "loss: 1.379982  [38464/60000]\n",
      "loss: 1.304649  [44864/60000]\n",
      "loss: 1.333756  [51264/60000]\n",
      "loss: 1.241772  [57664/60000]\n",
      "Epoch 5\n",
      "-------------------------------\n",
      "loss: 1.338298  [   64/60000]\n",
      "loss: 1.318971  [ 6464/60000]\n",
      "loss: 1.159138  [12864/60000]\n",
      "loss: 1.255975  [19264/60000]\n",
      "loss: 1.137958  [25664/60000]\n",
      "loss: 1.153104  [32064/60000]\n",
      "loss: 1.178615  [38464/60000]\n",
      "loss: 1.114407  [44864/60000]\n",
      "loss: 1.144662  [51264/60000]\n",
      "loss: 1.074357  [57664/60000]\n",
      "Done!\n",
      "Saved PyTorch Model State to model.pth\n"
     ]
    }
   ],
   "source": [
    "epochs = 5\n",
    "for t in range(epochs):\n",
    "    print(f\"Epoch {t+1}\\n-------------------------------\")\n",
    "    train(train_dataloader, model, loss_fn, optimizer)\n",
    "print(\"Done!\")\n",
    "torch.save(model.state_dict(), \"model.pth\")\n",
    "print(\"Saved PyTorch Model State to model.pth\")"
   ]
  },
  {
   "cell_type": "markdown",
   "metadata": {},
   "source": [
    "## Evaluate the model"
   ]
  },
  {
   "cell_type": "code",
   "execution_count": 16,
   "metadata": {},
   "outputs": [],
   "source": [
    "def test(dataloader, model, loss_fn):\n",
    "    size = len(dataloader.dataset)\n",
    "    num_batches = len(dataloader)\n",
    "    model.eval()\n",
    "    test_loss, correct = 0, 0\n",
    "    ref = 0\n",
    "    with torch.no_grad():\n",
    "        for X, y in dataloader:\n",
    "            X, y = X.to(device), y.to(device)\n",
    "            pred = model(X)\n",
    "            test_loss += loss_fn(pred, y).item()\n",
    "            correct += (pred.argmax(1) == y).type(torch.float).sum().item()\n",
    "    test_loss /= num_batches\n",
    "    correct /= size\n",
    "    print(f\" Test Error: \\n Accuracy: {(100*correct):>0.1f}%, Avg loss: {test_loss:>8f} \\n\")"
   ]
  },
  {
   "cell_type": "code",
   "execution_count": 17,
   "metadata": {},
   "outputs": [
    {
     "data": {
      "text/plain": [
       "<All keys matched successfully>"
      ]
     },
     "execution_count": 17,
     "metadata": {},
     "output_type": "execute_result"
    }
   ],
   "source": [
    "# load the  model\n",
    "model = NeuralNetwork().to(device)\n",
    "model.load_state_dict(torch.load(\"model.pth\"))"
   ]
  },
  {
   "cell_type": "code",
   "execution_count": 18,
   "metadata": {},
   "outputs": [
    {
     "name": "stdout",
     "output_type": "stream",
     "text": [
      " Test Error: \n",
      " Accuracy: 65.0%, Avg loss: 1.089144 \n",
      "\n"
     ]
    }
   ],
   "source": [
    "test(test_dataloader, model, loss_fn)"
   ]
  },
  {
   "cell_type": "markdown",
   "metadata": {},
   "source": [
    "## Make predictions"
   ]
  },
  {
   "cell_type": "code",
   "execution_count": 19,
   "metadata": {},
   "outputs": [],
   "source": [
    "import matplotlib.pyplot as plt"
   ]
  },
  {
   "cell_type": "code",
   "execution_count": 20,
   "metadata": {},
   "outputs": [
    {
     "name": "stdout",
     "output_type": "stream",
     "text": [
      "Predicted: \"Trouser\", Actual: \"Trouser\"\n"
     ]
    },
    {
     "data": {
      "image/png": "[encoded data removed]",
      "text/plain": [
       "<Figure size 640x480 with 1 Axes>"
      ]
     },
     "metadata": {},
     "output_type": "display_data"
    }
   ],
   "source": [
    "classes = [\n",
    "    \"T-shirt/top\",\n",
    "    \"Trouser\",\n",
    "    \"Pullover\",\n",
    "    \"Dress\",\n",
    "    \"Coat\",\n",
    "    \"Sandal\",\n",
    "    \"Shirt\",\n",
    "    \"Sneaker\",\n",
    "    \"Bag\",\n",
    "    \"Ankle boot\",\n",
    "]\n",
    "\n",
    "model.eval()\n",
    "x, y = test_data[5][0], test_data[5][1]\n",
    "plt.imshow((x[0].cpu().numpy()*255).astype(np.uint8))\n",
    "with torch.no_grad():\n",
    "    x = x.to(device)\n",
    "    pred = model(x)\n",
    "    predicted, actual = classes[pred[0].argmax(0)], classes[y]\n",
    "    print(f'Predicted: \"{predicted}\", Actual: \"{actual}\"')"
   ]
  }
 ],
 "metadata": {
  "kernelspec": {
   "display_name": "Python 3 (ipykernel)",
   "language": "python",
   "name": "python3"
  },
  "language_info": {
   "codemirror_mode": {
    "name": "ipython",
    "version": 3
   },
   "file_extension": ".py",
   "mimetype": "text/x-python",
   "name": "python",
   "nbconvert_exporter": "python",
   "pygments_lexer": "ipython3",
   "version": "3.9.16"
  }
 },
 "nbformat": 4,
 "nbformat_minor": 4
}
